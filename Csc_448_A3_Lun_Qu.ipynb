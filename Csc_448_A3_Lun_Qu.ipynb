{
  "nbformat": 4,
  "nbformat_minor": 0,
  "metadata": {
    "kernelspec": {
      "display_name": "Python 3",
      "language": "python",
      "name": "python3"
    },
    "language_info": {
      "codemirror_mode": {
        "name": "ipython",
        "version": 3
      },
      "file_extension": ".py",
      "mimetype": "text/x-python",
      "name": "python",
      "nbconvert_exporter": "python",
      "pygments_lexer": "ipython3",
      "version": "3.8.3"
    },
    "colab": {
      "name": "Csc_448_A3_Lun_Qu.ipynb",
      "provenance": [],
      "include_colab_link": true
    }
  },
  "cells": [
    {
      "cell_type": "markdown",
      "metadata": {
        "id": "view-in-github",
        "colab_type": "text"
      },
      "source": [
        "<a href=\"https://colab.research.google.com/github/Seventeee/CSC44800/blob/main/Csc_448_A3_Lun_Qu.ipynb\" target=\"_parent\"><img src=\"https://colab.research.google.com/assets/colab-badge.svg\" alt=\"Open In Colab\"/></a>"
      ]
    },
    {
      "cell_type": "code",
      "metadata": {
        "id": "hSb3bhgEDT66"
      },
      "source": [
        "import pandas as pd\n",
        "import numpy as np\n",
        "from sklearn.model_selection import train_test_split\n",
        "from sklearn import linear_model # for linear regression\n",
        "from sklearn.metrics import mean_squared_error, r2_score\n",
        "\n",
        "from sklearn import svm\n",
        "from sklearn import datasets\n",
        "from sklearn.model_selection import cross_val_score\n",
        "\n",
        "\n",
        "from sklearn.preprocessing import PolynomialFeatures"
      ],
      "execution_count": 1,
      "outputs": []
    },
    {
      "cell_type": "markdown",
      "metadata": {
        "id": "F8BtrfjIDT6_"
      },
      "source": [
        "<H2> Part 1 Loading the dataset </H2>"
      ]
    },
    {
      "cell_type": "code",
      "metadata": {
        "id": "ZoTPbaHTDT7B"
      },
      "source": [
        "# read data from csv file into pandas dataframe.\n",
        "# read_*() function can be use to read multiple types files, eg read_excel()\n",
        "slime_size_change = pd.read_csv(\"https://raw.githubusercontent.com/profmcnich/example_notebook/main/science_data_large.csv\")"
      ],
      "execution_count": 2,
      "outputs": []
    },
    {
      "cell_type": "markdown",
      "metadata": {
        "id": "jDVToCG4DT7B"
      },
      "source": [
        "<H3>Output the first 15 rows of the data:</H3>"
      ]
    },
    {
      "cell_type": "code",
      "metadata": {
        "colab": {
          "base_uri": "https://localhost:8080/",
          "height": 511
        },
        "id": "qP1bYqpoDT7C",
        "outputId": "78438da8-3128-47d8-8cec-c1bf0fa2173e"
      },
      "source": [
        "slime_size_change.head(15)"
      ],
      "execution_count": 3,
      "outputs": [
        {
          "output_type": "execute_result",
          "data": {
            "text/html": [
              "<div>\n",
              "<style scoped>\n",
              "    .dataframe tbody tr th:only-of-type {\n",
              "        vertical-align: middle;\n",
              "    }\n",
              "\n",
              "    .dataframe tbody tr th {\n",
              "        vertical-align: top;\n",
              "    }\n",
              "\n",
              "    .dataframe thead th {\n",
              "        text-align: right;\n",
              "    }\n",
              "</style>\n",
              "<table border=\"1\" class=\"dataframe\">\n",
              "  <thead>\n",
              "    <tr style=\"text-align: right;\">\n",
              "      <th></th>\n",
              "      <th>Temperature °C</th>\n",
              "      <th>Mols KCL</th>\n",
              "      <th>Size nm^3</th>\n",
              "    </tr>\n",
              "  </thead>\n",
              "  <tbody>\n",
              "    <tr>\n",
              "      <th>0</th>\n",
              "      <td>469</td>\n",
              "      <td>647</td>\n",
              "      <td>6.244743e+05</td>\n",
              "    </tr>\n",
              "    <tr>\n",
              "      <th>1</th>\n",
              "      <td>403</td>\n",
              "      <td>694</td>\n",
              "      <td>5.779610e+05</td>\n",
              "    </tr>\n",
              "    <tr>\n",
              "      <th>2</th>\n",
              "      <td>302</td>\n",
              "      <td>975</td>\n",
              "      <td>6.196847e+05</td>\n",
              "    </tr>\n",
              "    <tr>\n",
              "      <th>3</th>\n",
              "      <td>779</td>\n",
              "      <td>916</td>\n",
              "      <td>1.460449e+06</td>\n",
              "    </tr>\n",
              "    <tr>\n",
              "      <th>4</th>\n",
              "      <td>901</td>\n",
              "      <td>18</td>\n",
              "      <td>4.325726e+04</td>\n",
              "    </tr>\n",
              "    <tr>\n",
              "      <th>5</th>\n",
              "      <td>545</td>\n",
              "      <td>637</td>\n",
              "      <td>7.124634e+05</td>\n",
              "    </tr>\n",
              "    <tr>\n",
              "      <th>6</th>\n",
              "      <td>660</td>\n",
              "      <td>519</td>\n",
              "      <td>7.006960e+05</td>\n",
              "    </tr>\n",
              "    <tr>\n",
              "      <th>7</th>\n",
              "      <td>143</td>\n",
              "      <td>869</td>\n",
              "      <td>2.718260e+05</td>\n",
              "    </tr>\n",
              "    <tr>\n",
              "      <th>8</th>\n",
              "      <td>89</td>\n",
              "      <td>461</td>\n",
              "      <td>8.919803e+04</td>\n",
              "    </tr>\n",
              "    <tr>\n",
              "      <th>9</th>\n",
              "      <td>294</td>\n",
              "      <td>776</td>\n",
              "      <td>4.770210e+05</td>\n",
              "    </tr>\n",
              "    <tr>\n",
              "      <th>10</th>\n",
              "      <td>991</td>\n",
              "      <td>117</td>\n",
              "      <td>2.441771e+05</td>\n",
              "    </tr>\n",
              "    <tr>\n",
              "      <th>11</th>\n",
              "      <td>307</td>\n",
              "      <td>781</td>\n",
              "      <td>5.006455e+05</td>\n",
              "    </tr>\n",
              "    <tr>\n",
              "      <th>12</th>\n",
              "      <td>206</td>\n",
              "      <td>70</td>\n",
              "      <td>3.145200e+04</td>\n",
              "    </tr>\n",
              "    <tr>\n",
              "      <th>13</th>\n",
              "      <td>437</td>\n",
              "      <td>599</td>\n",
              "      <td>5.390215e+05</td>\n",
              "    </tr>\n",
              "    <tr>\n",
              "      <th>14</th>\n",
              "      <td>566</td>\n",
              "      <td>75</td>\n",
              "      <td>9.185271e+04</td>\n",
              "    </tr>\n",
              "  </tbody>\n",
              "</table>\n",
              "</div>"
            ],
            "text/plain": [
              "    Temperature °C  Mols KCL     Size nm^3\n",
              "0              469       647  6.244743e+05\n",
              "1              403       694  5.779610e+05\n",
              "2              302       975  6.196847e+05\n",
              "3              779       916  1.460449e+06\n",
              "4              901        18  4.325726e+04\n",
              "5              545       637  7.124634e+05\n",
              "6              660       519  7.006960e+05\n",
              "7              143       869  2.718260e+05\n",
              "8               89       461  8.919803e+04\n",
              "9              294       776  4.770210e+05\n",
              "10             991       117  2.441771e+05\n",
              "11             307       781  5.006455e+05\n",
              "12             206        70  3.145200e+04\n",
              "13             437       599  5.390215e+05\n",
              "14             566        75  9.185271e+04"
            ]
          },
          "metadata": {},
          "execution_count": 3
        }
      ]
    },
    {
      "cell_type": "markdown",
      "metadata": {
        "id": "w0jP6AvQDT7D"
      },
      "source": [
        "<H3> Display the table information: </H3>\n",
        "<H4> Check the data types of information: </H4>\n"
      ]
    },
    {
      "cell_type": "code",
      "metadata": {
        "colab": {
          "base_uri": "https://localhost:8080/"
        },
        "id": "Wuzt9gvUDT7D",
        "outputId": "fa979bf2-eed5-4198-fe93-62e28ff341a7"
      },
      "source": [
        "slime_size_change.dtypes"
      ],
      "execution_count": 4,
      "outputs": [
        {
          "output_type": "execute_result",
          "data": {
            "text/plain": [
              "Temperature °C      int64\n",
              "Mols KCL            int64\n",
              "Size nm^3         float64\n",
              "dtype: object"
            ]
          },
          "metadata": {},
          "execution_count": 4
        }
      ]
    },
    {
      "cell_type": "markdown",
      "metadata": {
        "id": "9TIWjToADT7E"
      },
      "source": [
        "<H4> More detail information of data, eg mean,std: </H4>"
      ]
    },
    {
      "cell_type": "code",
      "metadata": {
        "colab": {
          "base_uri": "https://localhost:8080/",
          "height": 295
        },
        "id": "o8TKJtivDT7F",
        "outputId": "36cc1393-74a8-41c2-cb8c-d0807551dd35"
      },
      "source": [
        "slime_size_change.describe()"
      ],
      "execution_count": 5,
      "outputs": [
        {
          "output_type": "execute_result",
          "data": {
            "text/html": [
              "<div>\n",
              "<style scoped>\n",
              "    .dataframe tbody tr th:only-of-type {\n",
              "        vertical-align: middle;\n",
              "    }\n",
              "\n",
              "    .dataframe tbody tr th {\n",
              "        vertical-align: top;\n",
              "    }\n",
              "\n",
              "    .dataframe thead th {\n",
              "        text-align: right;\n",
              "    }\n",
              "</style>\n",
              "<table border=\"1\" class=\"dataframe\">\n",
              "  <thead>\n",
              "    <tr style=\"text-align: right;\">\n",
              "      <th></th>\n",
              "      <th>Temperature °C</th>\n",
              "      <th>Mols KCL</th>\n",
              "      <th>Size nm^3</th>\n",
              "    </tr>\n",
              "  </thead>\n",
              "  <tbody>\n",
              "    <tr>\n",
              "      <th>count</th>\n",
              "      <td>1000.000000</td>\n",
              "      <td>1000.000000</td>\n",
              "      <td>1.000000e+03</td>\n",
              "    </tr>\n",
              "    <tr>\n",
              "      <th>mean</th>\n",
              "      <td>500.500000</td>\n",
              "      <td>471.530000</td>\n",
              "      <td>5.086111e+05</td>\n",
              "    </tr>\n",
              "    <tr>\n",
              "      <th>std</th>\n",
              "      <td>288.819436</td>\n",
              "      <td>288.482872</td>\n",
              "      <td>4.474838e+05</td>\n",
              "    </tr>\n",
              "    <tr>\n",
              "      <th>min</th>\n",
              "      <td>1.000000</td>\n",
              "      <td>1.000000</td>\n",
              "      <td>1.611429e+01</td>\n",
              "    </tr>\n",
              "    <tr>\n",
              "      <th>25%</th>\n",
              "      <td>250.750000</td>\n",
              "      <td>226.750000</td>\n",
              "      <td>1.298267e+05</td>\n",
              "    </tr>\n",
              "    <tr>\n",
              "      <th>50%</th>\n",
              "      <td>500.500000</td>\n",
              "      <td>459.500000</td>\n",
              "      <td>3.827182e+05</td>\n",
              "    </tr>\n",
              "    <tr>\n",
              "      <th>75%</th>\n",
              "      <td>750.250000</td>\n",
              "      <td>710.250000</td>\n",
              "      <td>7.603211e+05</td>\n",
              "    </tr>\n",
              "    <tr>\n",
              "      <th>max</th>\n",
              "      <td>1000.000000</td>\n",
              "      <td>1000.000000</td>\n",
              "      <td>1.972127e+06</td>\n",
              "    </tr>\n",
              "  </tbody>\n",
              "</table>\n",
              "</div>"
            ],
            "text/plain": [
              "       Temperature °C     Mols KCL     Size nm^3\n",
              "count     1000.000000  1000.000000  1.000000e+03\n",
              "mean       500.500000   471.530000  5.086111e+05\n",
              "std        288.819436   288.482872  4.474838e+05\n",
              "min          1.000000     1.000000  1.611429e+01\n",
              "25%        250.750000   226.750000  1.298267e+05\n",
              "50%        500.500000   459.500000  3.827182e+05\n",
              "75%        750.250000   710.250000  7.603211e+05\n",
              "max       1000.000000  1000.000000  1.972127e+06"
            ]
          },
          "metadata": {},
          "execution_count": 5
        }
      ]
    },
    {
      "cell_type": "markdown",
      "metadata": {
        "id": "_MztMLM6DT7G"
      },
      "source": [
        "<H4> 1000 $\\times$ 3 Table:</H4>"
      ]
    },
    {
      "cell_type": "code",
      "metadata": {
        "colab": {
          "base_uri": "https://localhost:8080/"
        },
        "id": "4VtgJuwQDT7G",
        "outputId": "56252304-6cbc-4dde-9bb1-73d0ff05d24d"
      },
      "source": [
        "#the total table has 1000 row and 3 colume\n",
        "print(slime_size_change.shape)"
      ],
      "execution_count": 6,
      "outputs": [
        {
          "output_type": "stream",
          "name": "stdout",
          "text": [
            "(1000, 3)\n"
          ]
        }
      ]
    },
    {
      "cell_type": "markdown",
      "metadata": {
        "id": "HdfMBu8HDT7G"
      },
      "source": [
        "<H4>Base on the data from the database, we notice that size is the result of experiment that we want to do reaserch on. And the temperature and the mols of Potassium Chloride(KCL) and will be two variable X1, X2 that impart the size of slime. We want to discover a model that can explain he growth of this new life form.  </H4>"
      ]
    },
    {
      "cell_type": "markdown",
      "metadata": {
        "id": "Br9z4BrQDT7H"
      },
      "source": [
        "<H2>Part 2. Splitting the dataset</H2>\n",
        "<H4>In this step, we want to edit the our data series, each column in the table of pandas is consider as a series, not as same as our ragular data type (array). Thus, I gonna convert them to NumPy array, And define X(feature), Y(label).</H4>"
      ]
    },
    {
      "cell_type": "code",
      "metadata": {
        "colab": {
          "base_uri": "https://localhost:8080/"
        },
        "id": "fW9PdkPZDT7H",
        "outputId": "36add687-4293-460d-cfc5-926d0e78aaaf"
      },
      "source": [
        "type(slime_size_change['Size nm^3'])"
      ],
      "execution_count": 7,
      "outputs": [
        {
          "output_type": "execute_result",
          "data": {
            "text/plain": [
              "pandas.core.series.Series"
            ]
          },
          "metadata": {},
          "execution_count": 7
        }
      ]
    },
    {
      "cell_type": "code",
      "metadata": {
        "id": "3Y6PleOGDT7H"
      },
      "source": [
        "# Take the pandas dataset and split it into our features (X) and label (y)\n",
        "X = np.array(slime_size_change.drop(['Size nm^3'], 1))\n",
        "y = np.array(slime_size_change['Size nm^3'])"
      ],
      "execution_count": 8,
      "outputs": []
    },
    {
      "cell_type": "code",
      "metadata": {
        "id": "DpeUyswGDT7I"
      },
      "source": [
        "# Use sklearn to split the features and labels into a training/test set. (90% train, 10% test)\n",
        "# numpy.random. RandomState() This is a pseudorandom number generator.\n",
        "# we can also make random_state be a exactly number, so we can control the model we get.\n",
        "rng = np.random.RandomState(0)\n",
        "X_train, X_test, y_train, y_test = train_test_split(X, y, test_size=0.1, random_state=rng)"
      ],
      "execution_count": 9,
      "outputs": []
    },
    {
      "cell_type": "markdown",
      "metadata": {
        "id": "qjKYSy4ODT7I"
      },
      "source": [
        "<H2>Part 3. Perform a Linear Regression</H2>"
      ]
    },
    {
      "cell_type": "code",
      "metadata": {
        "id": "L8hWabO0DT7I"
      },
      "source": [
        "# Create linear regression object\n",
        "linear_clf = linear_model.LinearRegression()"
      ],
      "execution_count": 10,
      "outputs": []
    },
    {
      "cell_type": "code",
      "metadata": {
        "colab": {
          "base_uri": "https://localhost:8080/"
        },
        "id": "O-yalxfBDT7J",
        "outputId": "ecdb04c0-7eb5-4496-9784-74c85f289ba2"
      },
      "source": [
        "# Train the model using the training sets\n",
        "linear_clf.fit(X_train, y_train)"
      ],
      "execution_count": 11,
      "outputs": [
        {
          "output_type": "execute_result",
          "data": {
            "text/plain": [
              "LinearRegression(copy_X=True, fit_intercept=True, n_jobs=None, normalize=False)"
            ]
          },
          "metadata": {},
          "execution_count": 11
        }
      ]
    },
    {
      "cell_type": "code",
      "metadata": {
        "colab": {
          "base_uri": "https://localhost:8080/"
        },
        "id": "djgHhS9fDT7J",
        "outputId": "b976f7e9-4cb1-4852-a8f3-28fe1ea8815b"
      },
      "source": [
        "# Create a sample datapoint and predict the output of that sample with the trained model\n",
        "\n",
        "# we randomly pick up a simple [469,647], which temperature is 89°C and the mols of KCL is 461\n",
        "y_pred = linear_clf.predict(np.array([469,647]).reshape(1,2))\n",
        "print(\"The output of this sample datapoint base on our linear model:\", y_pred)"
      ],
      "execution_count": 12,
      "outputs": [
        {
          "output_type": "stream",
          "name": "stdout",
          "text": [
            "The output of this sample datapoint base on our linear model: [655678.05712659]\n"
          ]
        }
      ]
    },
    {
      "cell_type": "markdown",
      "metadata": {
        "id": "F8UJjsynDT7K"
      },
      "source": [
        "<H4>Base on this output we can not check the accuracy of my model, we want to have more evaluate base on score, such as Mean squared error, score, etc. For now we will requir to use our testing data set to judge the model. </H4>"
      ]
    },
    {
      "cell_type": "code",
      "metadata": {
        "colab": {
          "base_uri": "https://localhost:8080/"
        },
        "id": "KvSJXXYADT7K",
        "outputId": "c715e9f0-651c-48e9-e821-0a97cf03186a"
      },
      "source": [
        "# Make predictions using the testing set\n",
        "y_pred = linear_clf.predict(X_test)\n",
        "print('Mean squared error: %.2f'\n",
        "      % mean_squared_error(y_test, y_pred))"
      ],
      "execution_count": 13,
      "outputs": [
        {
          "output_type": "stream",
          "name": "stdout",
          "text": [
            "Mean squared error: 36070444496.78\n"
          ]
        }
      ]
    },
    {
      "cell_type": "markdown",
      "metadata": {
        "id": "2BYKQhaIDT7K"
      },
      "source": [
        "<H2>!!The value is counted is too large to believe. We better to ignore this one</H2>"
      ]
    },
    {
      "cell_type": "code",
      "metadata": {
        "colab": {
          "base_uri": "https://localhost:8080/"
        },
        "id": "z9fTZ-AtDT7K",
        "outputId": "269f815d-49d0-4761-de8b-267aef734003"
      },
      "source": [
        "# We also want to check the score of linear regression\n",
        "linear_confidence = linear_clf.score(X_test, y_test)\n",
        "print('The score of the linear model:',linear_confidence)"
      ],
      "execution_count": 14,
      "outputs": [
        {
          "output_type": "stream",
          "name": "stdout",
          "text": [
            "The score of the linear model: 0.8761646752736477\n"
          ]
        }
      ]
    },
    {
      "cell_type": "markdown",
      "metadata": {
        "id": "g2iWLJE2DT7L"
      },
      "source": [
        "<H4>From the result, we notice that the score of this model is 0.87616. We also can said that the confidence of our model is 87%. By reading, we know that score function return the coefficient of determination R^2 of the prediction. The coefficient of determination reflects what percentage of the fluctuation of y can be described by the fluctuation of x. 87%, I can only say it is a not bad score, but still not enough.</H4>"
      ]
    },
    {
      "cell_type": "code",
      "metadata": {
        "colab": {
          "base_uri": "https://localhost:8080/"
        },
        "id": "9LZ9rQkNDT7L",
        "outputId": "2742d8d5-4607-45ea-aa33-f563d02399fc"
      },
      "source": [
        "# The coefficients and intercepts:\n",
        "print('Coefficients: \\n', linear_clf.coef_)\n",
        "print('Intercepts: \\n', linear_clf.intercept_)"
      ],
      "execution_count": 15,
      "outputs": [
        {
          "output_type": "stream",
          "name": "stdout",
          "text": [
            "Coefficients: \n",
            " [ 863.58108791 1006.12741921]\n",
            "Intercepts: \n",
            " -400305.9133335322\n"
          ]
        }
      ]
    },
    {
      "cell_type": "markdown",
      "metadata": {
        "id": "hsAUL35SDT7L"
      },
      "source": [
        "<H4> It is obvouis we have two coefficients for X1 and X2, base on $y(w,x) = w_0 + w_1x_1 + w_2x_2 + ...$ This format, we will have:\n",
        "$$y = -400305.91333 + 863.58109x_1 + 1006.12741x_2$$\n",
        "y is size of slime, $x_1$ is temperature, $x_2$ is mol of KCL</H4>\n"
      ]
    },
    {
      "cell_type": "markdown",
      "metadata": {
        "id": "XAtPPg1hDT7L"
      },
      "source": [
        "<H2>Part 4. Use Cross Validation</H2>"
      ]
    },
    {
      "cell_type": "markdown",
      "metadata": {
        "id": "ud5D5vcDDT7L"
      },
      "source": [
        "<H4>Similary to previous steps, the first thing we need to do is build the cross validation model, training the model with data of training set. But when we evalute, we are required to use function cross_val_score to see what the different with before. What the benefit the cross validation has.</H4>"
      ]
    },
    {
      "cell_type": "code",
      "metadata": {
        "colab": {
          "base_uri": "https://localhost:8080/"
        },
        "id": "dWm0yDWHDT7M",
        "outputId": "6bf9da49-4773-425c-be1e-12049a1f7078"
      },
      "source": [
        "# build our new model\n",
        "# default C=1, degree=3\n",
        "cross_clf = svm.SVR(kernel='linear')\n",
        "cross_clf.fit(X_train, y_train)"
      ],
      "execution_count": 16,
      "outputs": [
        {
          "output_type": "execute_result",
          "data": {
            "text/plain": [
              "SVR(C=1.0, cache_size=200, coef0=0.0, degree=3, epsilon=0.1, gamma='scale',\n",
              "    kernel='linear', max_iter=-1, shrinking=True, tol=0.001, verbose=False)"
            ]
          },
          "metadata": {},
          "execution_count": 16
        }
      ]
    },
    {
      "cell_type": "markdown",
      "metadata": {
        "id": "c6TNuSt2DT7M"
      },
      "source": [
        "<H4>By this method, we split our train set into 5 parts, and each part can be consider as a testing data separately. This method helps to reduce the total amount of data required, for this the testing set is redundant. But it also might have some problem since we analysis the result. </H4>"
      ]
    },
    {
      "cell_type": "code",
      "metadata": {
        "colab": {
          "base_uri": "https://localhost:8080/"
        },
        "id": "xothfDBHDT7M",
        "outputId": "abb5b5b0-fcb5-4b2d-b4a0-7aebaa6b7a20"
      },
      "source": [
        "# cross_val_score will return the score for each part, the type will be array \n",
        "Cross_scores = cross_val_score(cross_clf, X_train, y_train, cv=5)\n",
        "print(\"Score:\", Cross_scores)"
      ],
      "execution_count": 17,
      "outputs": [
        {
          "output_type": "stream",
          "name": "stdout",
          "text": [
            "Score: [0.83759838 0.84277021 0.86562583 0.86006326 0.83486248]\n"
          ]
        }
      ]
    },
    {
      "cell_type": "markdown",
      "metadata": {
        "id": "l4b8YtuoDT7M"
      },
      "source": [
        "<H4>The cv value is set to 5, thus there are 5 iterations of cross-validation are performed, and also we obtained 5 model scores. We found that the score of our model is not consistent, it fluctuates with different test domains.But in the overall, gap is small, and all 5 score are close to the answer we got from linear regression.</H4>"
      ]
    },
    {
      "cell_type": "code",
      "metadata": {
        "colab": {
          "base_uri": "https://localhost:8080/"
        },
        "id": "quy90MpODT7M",
        "outputId": "f92d54c5-9d8f-4e33-cdbc-8b13f03ab3e9"
      },
      "source": [
        "# The coefficients and intercepts:\n",
        "print('Coefficients: \\n', cross_clf.coef_)\n",
        "print('Intercepts: \\n', cross_clf.intercept_)"
      ],
      "execution_count": 18,
      "outputs": [
        {
          "output_type": "stream",
          "name": "stdout",
          "text": [
            "Coefficients: \n",
            " [[ 867.53532073 1016.81622773]]\n",
            "Intercepts: \n",
            " [-424564.0712438]\n"
          ]
        }
      ]
    },
    {
      "cell_type": "markdown",
      "metadata": {
        "id": "b69gmq4TDT7N"
      },
      "source": [
        "<H>The new linear function:\n",
        "    $$y = -424564.07124+ 867.53532x_1 + 1016.81623x_2$$</H>"
      ]
    },
    {
      "cell_type": "markdown",
      "metadata": {
        "id": "AfdaKcAtDT7N"
      },
      "source": [
        "<H2>Part 5. Using Polynomial Regression</H2>"
      ]
    },
    {
      "cell_type": "code",
      "metadata": {
        "id": "qnIODGJXDT7N"
      },
      "source": [
        "poly = PolynomialFeatures(degree=2)\n",
        "# transformed the features of X from [x1,x2] to [1,x1,x2,x1^2,x1x2,x2^2]\n",
        "X_train = poly.fit_transform(X_train)\n",
        "X_test = poly.fit_transform(X_test)"
      ],
      "execution_count": 19,
      "outputs": []
    },
    {
      "cell_type": "markdown",
      "metadata": {
        "id": "mN0Z28RIDT7N"
      },
      "source": [
        "<H4> Now we can use this new X to train our linear model.</H4>"
      ]
    },
    {
      "cell_type": "code",
      "metadata": {
        "colab": {
          "base_uri": "https://localhost:8080/"
        },
        "id": "bIMBgVljDT7N",
        "outputId": "b4a7550b-3003-493d-b818-37d09c49ee2a"
      },
      "source": [
        "poly_clf = linear_model.LinearRegression()\n",
        "poly_clf.fit(X_train, y_train)"
      ],
      "execution_count": 20,
      "outputs": [
        {
          "output_type": "execute_result",
          "data": {
            "text/plain": [
              "LinearRegression(copy_X=True, fit_intercept=True, n_jobs=None, normalize=False)"
            ]
          },
          "metadata": {},
          "execution_count": 20
        }
      ]
    },
    {
      "cell_type": "code",
      "metadata": {
        "colab": {
          "base_uri": "https://localhost:8080/"
        },
        "id": "d3I6D0VLDT7N",
        "outputId": "698c856a-e965-4ad2-bb04-5ba843b371c6"
      },
      "source": [
        "# Create a sample datapoint and predict the output of that sample with the trained model\n",
        "\n",
        "# we randomly pick up a simple [566 75], which temperature is 89°C and the mols of KCL is 461\n",
        "# (ps: this is the fifteenth row in the table [566\t75\t9.185271e+04])\n",
        "y_pred = poly_clf.predict( poly.fit_transform(np.array([566,75]).reshape(1,2)))\n",
        "print(\"The output of this sample datapoint base on our linear model:\", y_pred)"
      ],
      "execution_count": 21,
      "outputs": [
        {
          "output_type": "stream",
          "name": "stdout",
          "text": [
            "The output of this sample datapoint base on our linear model: [91852.71429248]\n"
          ]
        }
      ]
    },
    {
      "cell_type": "code",
      "metadata": {
        "colab": {
          "base_uri": "https://localhost:8080/"
        },
        "id": "qGlB2rbKDT7O",
        "outputId": "44cf4a7d-c8cb-49f9-f7c1-413fde8347d6"
      },
      "source": [
        "# check mean squared error between, predict y with the really y in the testing set.\n",
        "y_pred = poly_clf.predict(X_test)\n",
        "print('Mean squared error: %.2f'\n",
        "      % mean_squared_error(y_test, y_pred))"
      ],
      "execution_count": 22,
      "outputs": [
        {
          "output_type": "stream",
          "name": "stdout",
          "text": [
            "Mean squared error: 0.00\n"
          ]
        }
      ]
    },
    {
      "cell_type": "code",
      "metadata": {
        "colab": {
          "base_uri": "https://localhost:8080/"
        },
        "id": "bVj37wlpDT7O",
        "outputId": "47069171-47b4-44c0-ceeb-37c6c35aa9df"
      },
      "source": [
        "poly_score = poly_clf.score(X_test,y_test)\n",
        "print(\"Score of poly regression model:\", poly_score)"
      ],
      "execution_count": 23,
      "outputs": [
        {
          "output_type": "stream",
          "name": "stdout",
          "text": [
            "Score of poly regression model: 1.0\n"
          ]
        }
      ]
    },
    {
      "cell_type": "markdown",
      "metadata": {
        "id": "0clkOZpRDT7O"
      },
      "source": [
        "<H4>We find that the both mean squared error and score show us the poly model is perfect prediction. But I don't think that the model we obtained is 100% accurate. We need to do more research to think about more possibilities.</H4>"
      ]
    },
    {
      "cell_type": "code",
      "metadata": {
        "colab": {
          "base_uri": "https://localhost:8080/"
        },
        "id": "b1GDxya6DT7O",
        "outputId": "3e15e594-e6fb-49ee-f608-7abe8e8a341b"
      },
      "source": [
        "# The coefficients and intercepts:\n",
        "print('Coefficients: \\n', poly_clf.coef_)\n",
        "print('Intercepts: \\n', poly_clf.intercept_)"
      ],
      "execution_count": 24,
      "outputs": [
        {
          "output_type": "stream",
          "name": "stdout",
          "text": [
            "Coefficients: \n",
            " [ 0.00000000e+00  1.20000000e+01 -1.10383439e-07 -1.20916610e-11\n",
            "  2.00000000e+00  2.85714287e-02]\n",
            "Intercepts: \n",
            " 1.3900746125727892e-05\n"
          ]
        }
      ]
    },
    {
      "cell_type": "markdown",
      "metadata": {
        "id": "F61IIYkbDT7O"
      },
      "source": [
        "<H4>As I said, the new feature of X follow in form  $[1,x_1,x_2,x_1^2,x_1x_2,x_2^2]$. Base on that, add the coefficients to each term, we will get our the resultant equation(ignore outside of 5 significant figures): \n",
        "$$y = 0.00001 + 12x_1 +2x_1x_2 + 0.02857x_2^2$$</H4>"
      ]
    }
  ]
}