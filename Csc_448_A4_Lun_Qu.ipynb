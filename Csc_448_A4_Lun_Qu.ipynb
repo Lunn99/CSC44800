{
  "nbformat": 4,
  "nbformat_minor": 0,
  "metadata": {
    "kernelspec": {
      "display_name": "Python 3",
      "language": "python",
      "name": "python3"
    },
    "language_info": {
      "codemirror_mode": {
        "name": "ipython",
        "version": 3
      },
      "file_extension": ".py",
      "mimetype": "text/x-python",
      "name": "python",
      "nbconvert_exporter": "python",
      "pygments_lexer": "ipython3",
      "version": "3.8.3"
    },
    "colab": {
      "name": "Csc_448_A4_Lun_Qu.ipynb",
      "provenance": [],
      "include_colab_link": true
    }
  },
  "cells": [
    {
      "cell_type": "markdown",
      "metadata": {
        "id": "view-in-github",
        "colab_type": "text"
      },
      "source": [
        "<a href=\"https://colab.research.google.com/github/Seventeee/CSC44800/blob/main/Csc_448_A4_Lun_Qu.ipynb\" target=\"_parent\"><img src=\"https://colab.research.google.com/assets/colab-badge.svg\" alt=\"Open In Colab\"/></a>"
      ]
    },
    {
      "cell_type": "markdown",
      "metadata": {
        "id": "BjY0k19a0wXt"
      },
      "source": [
        "Name: Lun Qu <br>\n",
        "Course: CSC 44800 Artificial Intelligence<br>\n",
        "Assignment 4: Judging Flowers\n",
        "\n",
        "\n"
      ]
    },
    {
      "cell_type": "markdown",
      "metadata": {
        "id": "O5TBfuan0wXx"
      },
      "source": [
        "<H2> Part 1 Loading the dataset </H2>"
      ]
    },
    {
      "cell_type": "code",
      "metadata": {
        "id": "VhOZU4QR0wXx"
      },
      "source": [
        "import numpy as np\n",
        "\n",
        "import pandas as pd\n",
        "from sklearn.datasets import load_iris\n",
        "\n",
        "from sklearn.model_selection import train_test_split\n",
        "from sklearn.linear_model import LogisticRegression\n",
        "\n",
        "from sklearn.metrics import mean_squared_error, r2_score\n",
        "\n",
        "from sklearn import svm\n",
        "from sklearn.svm import SVC\n",
        "from sklearn import datasets\n",
        "\n",
        "from sklearn.neural_network import MLPClassifier\n",
        "\n"
      ],
      "execution_count": 1,
      "outputs": []
    },
    {
      "cell_type": "code",
      "metadata": {
        "id": "nDT1291E0wXy"
      },
      "source": [
        "# Load the dataset (load remotely, not locally)\n",
        "iris = load_iris()\n",
        "\n",
        "# For read the data more easy, we might just put all data into pandas dataframe. \n",
        "# np.c_ is the numpy concatenate function\n",
        "# which is used to concat iris['data'] and iris['target'] arrays \n",
        "\n",
        "# In the orignal data, we have two main array. \n",
        "# The one is called data set that record the the basic information of iris\n",
        "# Sepal Length, Sepal Width, Petal Length and Petal Width.\n",
        "# The second is called target which indicates the specials of iris. There are three \n",
        "# 0,1 and 2, they sepeartelly represent Iris-Setosa ; Iris-Versicolour; Iris-Virginica\n",
        "\n",
        "iris_data_frame = pd.DataFrame(data= np.c_[iris['data'], iris['target']],\n",
        "                     columns= iris['feature_names'] + ['target'])"
      ],
      "execution_count": 2,
      "outputs": []
    },
    {
      "cell_type": "code",
      "metadata": {
        "colab": {
          "base_uri": "https://localhost:8080/",
          "height": 511
        },
        "id": "0dDvTS6v0wXz",
        "outputId": "4cb1330c-2892-47be-f347-1a406d067006"
      },
      "source": [
        "# Output the first 15 rows of the data:\n",
        "iris_data_frame.head(15)"
      ],
      "execution_count": 3,
      "outputs": [
        {
          "output_type": "execute_result",
          "data": {
            "text/html": [
              "<div>\n",
              "<style scoped>\n",
              "    .dataframe tbody tr th:only-of-type {\n",
              "        vertical-align: middle;\n",
              "    }\n",
              "\n",
              "    .dataframe tbody tr th {\n",
              "        vertical-align: top;\n",
              "    }\n",
              "\n",
              "    .dataframe thead th {\n",
              "        text-align: right;\n",
              "    }\n",
              "</style>\n",
              "<table border=\"1\" class=\"dataframe\">\n",
              "  <thead>\n",
              "    <tr style=\"text-align: right;\">\n",
              "      <th></th>\n",
              "      <th>sepal length (cm)</th>\n",
              "      <th>sepal width (cm)</th>\n",
              "      <th>petal length (cm)</th>\n",
              "      <th>petal width (cm)</th>\n",
              "      <th>target</th>\n",
              "    </tr>\n",
              "  </thead>\n",
              "  <tbody>\n",
              "    <tr>\n",
              "      <th>0</th>\n",
              "      <td>5.1</td>\n",
              "      <td>3.5</td>\n",
              "      <td>1.4</td>\n",
              "      <td>0.2</td>\n",
              "      <td>0.0</td>\n",
              "    </tr>\n",
              "    <tr>\n",
              "      <th>1</th>\n",
              "      <td>4.9</td>\n",
              "      <td>3.0</td>\n",
              "      <td>1.4</td>\n",
              "      <td>0.2</td>\n",
              "      <td>0.0</td>\n",
              "    </tr>\n",
              "    <tr>\n",
              "      <th>2</th>\n",
              "      <td>4.7</td>\n",
              "      <td>3.2</td>\n",
              "      <td>1.3</td>\n",
              "      <td>0.2</td>\n",
              "      <td>0.0</td>\n",
              "    </tr>\n",
              "    <tr>\n",
              "      <th>3</th>\n",
              "      <td>4.6</td>\n",
              "      <td>3.1</td>\n",
              "      <td>1.5</td>\n",
              "      <td>0.2</td>\n",
              "      <td>0.0</td>\n",
              "    </tr>\n",
              "    <tr>\n",
              "      <th>4</th>\n",
              "      <td>5.0</td>\n",
              "      <td>3.6</td>\n",
              "      <td>1.4</td>\n",
              "      <td>0.2</td>\n",
              "      <td>0.0</td>\n",
              "    </tr>\n",
              "    <tr>\n",
              "      <th>5</th>\n",
              "      <td>5.4</td>\n",
              "      <td>3.9</td>\n",
              "      <td>1.7</td>\n",
              "      <td>0.4</td>\n",
              "      <td>0.0</td>\n",
              "    </tr>\n",
              "    <tr>\n",
              "      <th>6</th>\n",
              "      <td>4.6</td>\n",
              "      <td>3.4</td>\n",
              "      <td>1.4</td>\n",
              "      <td>0.3</td>\n",
              "      <td>0.0</td>\n",
              "    </tr>\n",
              "    <tr>\n",
              "      <th>7</th>\n",
              "      <td>5.0</td>\n",
              "      <td>3.4</td>\n",
              "      <td>1.5</td>\n",
              "      <td>0.2</td>\n",
              "      <td>0.0</td>\n",
              "    </tr>\n",
              "    <tr>\n",
              "      <th>8</th>\n",
              "      <td>4.4</td>\n",
              "      <td>2.9</td>\n",
              "      <td>1.4</td>\n",
              "      <td>0.2</td>\n",
              "      <td>0.0</td>\n",
              "    </tr>\n",
              "    <tr>\n",
              "      <th>9</th>\n",
              "      <td>4.9</td>\n",
              "      <td>3.1</td>\n",
              "      <td>1.5</td>\n",
              "      <td>0.1</td>\n",
              "      <td>0.0</td>\n",
              "    </tr>\n",
              "    <tr>\n",
              "      <th>10</th>\n",
              "      <td>5.4</td>\n",
              "      <td>3.7</td>\n",
              "      <td>1.5</td>\n",
              "      <td>0.2</td>\n",
              "      <td>0.0</td>\n",
              "    </tr>\n",
              "    <tr>\n",
              "      <th>11</th>\n",
              "      <td>4.8</td>\n",
              "      <td>3.4</td>\n",
              "      <td>1.6</td>\n",
              "      <td>0.2</td>\n",
              "      <td>0.0</td>\n",
              "    </tr>\n",
              "    <tr>\n",
              "      <th>12</th>\n",
              "      <td>4.8</td>\n",
              "      <td>3.0</td>\n",
              "      <td>1.4</td>\n",
              "      <td>0.1</td>\n",
              "      <td>0.0</td>\n",
              "    </tr>\n",
              "    <tr>\n",
              "      <th>13</th>\n",
              "      <td>4.3</td>\n",
              "      <td>3.0</td>\n",
              "      <td>1.1</td>\n",
              "      <td>0.1</td>\n",
              "      <td>0.0</td>\n",
              "    </tr>\n",
              "    <tr>\n",
              "      <th>14</th>\n",
              "      <td>5.8</td>\n",
              "      <td>4.0</td>\n",
              "      <td>1.2</td>\n",
              "      <td>0.2</td>\n",
              "      <td>0.0</td>\n",
              "    </tr>\n",
              "  </tbody>\n",
              "</table>\n",
              "</div>"
            ],
            "text/plain": [
              "    sepal length (cm)  sepal width (cm)  ...  petal width (cm)  target\n",
              "0                 5.1               3.5  ...               0.2     0.0\n",
              "1                 4.9               3.0  ...               0.2     0.0\n",
              "2                 4.7               3.2  ...               0.2     0.0\n",
              "3                 4.6               3.1  ...               0.2     0.0\n",
              "4                 5.0               3.6  ...               0.2     0.0\n",
              "5                 5.4               3.9  ...               0.4     0.0\n",
              "6                 4.6               3.4  ...               0.3     0.0\n",
              "7                 5.0               3.4  ...               0.2     0.0\n",
              "8                 4.4               2.9  ...               0.2     0.0\n",
              "9                 4.9               3.1  ...               0.1     0.0\n",
              "10                5.4               3.7  ...               0.2     0.0\n",
              "11                4.8               3.4  ...               0.2     0.0\n",
              "12                4.8               3.0  ...               0.1     0.0\n",
              "13                4.3               3.0  ...               0.1     0.0\n",
              "14                5.8               4.0  ...               0.2     0.0\n",
              "\n",
              "[15 rows x 5 columns]"
            ]
          },
          "metadata": {},
          "execution_count": 3
        }
      ]
    },
    {
      "cell_type": "code",
      "metadata": {
        "colab": {
          "base_uri": "https://localhost:8080/"
        },
        "id": "EIAsBRl10wX0",
        "outputId": "17d21f81-7ff5-49bc-9fce-23386791dd30"
      },
      "source": [
        "iris_data_frame.dtypes"
      ],
      "execution_count": 4,
      "outputs": [
        {
          "output_type": "execute_result",
          "data": {
            "text/plain": [
              "sepal length (cm)    float64\n",
              "sepal width (cm)     float64\n",
              "petal length (cm)    float64\n",
              "petal width (cm)     float64\n",
              "target               float64\n",
              "dtype: object"
            ]
          },
          "metadata": {},
          "execution_count": 4
        }
      ]
    },
    {
      "cell_type": "code",
      "metadata": {
        "colab": {
          "base_uri": "https://localhost:8080/",
          "height": 295
        },
        "id": "RWnGkqNp0wX0",
        "outputId": "fc71c37b-6498-4848-f639-620e2b313648"
      },
      "source": [
        "iris_data_frame.describe()"
      ],
      "execution_count": 5,
      "outputs": [
        {
          "output_type": "execute_result",
          "data": {
            "text/html": [
              "<div>\n",
              "<style scoped>\n",
              "    .dataframe tbody tr th:only-of-type {\n",
              "        vertical-align: middle;\n",
              "    }\n",
              "\n",
              "    .dataframe tbody tr th {\n",
              "        vertical-align: top;\n",
              "    }\n",
              "\n",
              "    .dataframe thead th {\n",
              "        text-align: right;\n",
              "    }\n",
              "</style>\n",
              "<table border=\"1\" class=\"dataframe\">\n",
              "  <thead>\n",
              "    <tr style=\"text-align: right;\">\n",
              "      <th></th>\n",
              "      <th>sepal length (cm)</th>\n",
              "      <th>sepal width (cm)</th>\n",
              "      <th>petal length (cm)</th>\n",
              "      <th>petal width (cm)</th>\n",
              "      <th>target</th>\n",
              "    </tr>\n",
              "  </thead>\n",
              "  <tbody>\n",
              "    <tr>\n",
              "      <th>count</th>\n",
              "      <td>150.000000</td>\n",
              "      <td>150.000000</td>\n",
              "      <td>150.000000</td>\n",
              "      <td>150.000000</td>\n",
              "      <td>150.000000</td>\n",
              "    </tr>\n",
              "    <tr>\n",
              "      <th>mean</th>\n",
              "      <td>5.843333</td>\n",
              "      <td>3.057333</td>\n",
              "      <td>3.758000</td>\n",
              "      <td>1.199333</td>\n",
              "      <td>1.000000</td>\n",
              "    </tr>\n",
              "    <tr>\n",
              "      <th>std</th>\n",
              "      <td>0.828066</td>\n",
              "      <td>0.435866</td>\n",
              "      <td>1.765298</td>\n",
              "      <td>0.762238</td>\n",
              "      <td>0.819232</td>\n",
              "    </tr>\n",
              "    <tr>\n",
              "      <th>min</th>\n",
              "      <td>4.300000</td>\n",
              "      <td>2.000000</td>\n",
              "      <td>1.000000</td>\n",
              "      <td>0.100000</td>\n",
              "      <td>0.000000</td>\n",
              "    </tr>\n",
              "    <tr>\n",
              "      <th>25%</th>\n",
              "      <td>5.100000</td>\n",
              "      <td>2.800000</td>\n",
              "      <td>1.600000</td>\n",
              "      <td>0.300000</td>\n",
              "      <td>0.000000</td>\n",
              "    </tr>\n",
              "    <tr>\n",
              "      <th>50%</th>\n",
              "      <td>5.800000</td>\n",
              "      <td>3.000000</td>\n",
              "      <td>4.350000</td>\n",
              "      <td>1.300000</td>\n",
              "      <td>1.000000</td>\n",
              "    </tr>\n",
              "    <tr>\n",
              "      <th>75%</th>\n",
              "      <td>6.400000</td>\n",
              "      <td>3.300000</td>\n",
              "      <td>5.100000</td>\n",
              "      <td>1.800000</td>\n",
              "      <td>2.000000</td>\n",
              "    </tr>\n",
              "    <tr>\n",
              "      <th>max</th>\n",
              "      <td>7.900000</td>\n",
              "      <td>4.400000</td>\n",
              "      <td>6.900000</td>\n",
              "      <td>2.500000</td>\n",
              "      <td>2.000000</td>\n",
              "    </tr>\n",
              "  </tbody>\n",
              "</table>\n",
              "</div>"
            ],
            "text/plain": [
              "       sepal length (cm)  sepal width (cm)  ...  petal width (cm)      target\n",
              "count         150.000000        150.000000  ...        150.000000  150.000000\n",
              "mean            5.843333          3.057333  ...          1.199333    1.000000\n",
              "std             0.828066          0.435866  ...          0.762238    0.819232\n",
              "min             4.300000          2.000000  ...          0.100000    0.000000\n",
              "25%             5.100000          2.800000  ...          0.300000    0.000000\n",
              "50%             5.800000          3.000000  ...          1.300000    1.000000\n",
              "75%             6.400000          3.300000  ...          1.800000    2.000000\n",
              "max             7.900000          4.400000  ...          2.500000    2.000000\n",
              "\n",
              "[8 rows x 5 columns]"
            ]
          },
          "metadata": {},
          "execution_count": 5
        }
      ]
    },
    {
      "cell_type": "markdown",
      "metadata": {
        "id": "yO9_jjmC0wX1"
      },
      "source": [
        "<H2>About the dataset</H2>\n",
        "As we expained previous, there are three species of iris. The experiment the scientist did is trying to Collected data to quantify the morphological variation of iris flowers in three related species. We will use those data to build our different classification models. Thus the feature X should be iris['data'] contains sepal length (cm), sepal width (cm), petal length (cm) and petal width (cm). The label y will be the target, the number indicates iris class."
      ]
    },
    {
      "cell_type": "markdown",
      "metadata": {
        "id": "acQvP5t60wX2"
      },
      "source": [
        "<H2>Part 2: Split the dataset into train and test</H2>"
      ]
    },
    {
      "cell_type": "code",
      "metadata": {
        "id": "ChbsO7uL0wX2"
      },
      "source": [
        "# Take the pandas dataset and split it into our features (X) and label (y)\n",
        "X = np.array(iris_data_frame.drop(['target'], 1))\n",
        "y = np.array(iris_data_frame['target'])"
      ],
      "execution_count": 6,
      "outputs": []
    },
    {
      "cell_type": "code",
      "metadata": {
        "id": "K6L1MsjB0wX3"
      },
      "source": [
        "# Use sklearn to split the features and labels into a training/test set. (90% train, 10% test)\n",
        "# numpy.random. RandomState() This is a pseudorandom number generator.\n",
        "# we can also make random_state be a exactly number, so we can control the model we get.\n",
        "rng = np.random.RandomState(0)\n",
        "X_train, X_test, y_train, y_test = train_test_split(X, y, test_size=0.1, random_state=rng)"
      ],
      "execution_count": 7,
      "outputs": []
    },
    {
      "cell_type": "markdown",
      "metadata": {
        "id": "QBnENvcs0wX3"
      },
      "source": [
        "<H2>Part 3: Logistic Regression</H2>"
      ]
    },
    {
      "cell_type": "code",
      "metadata": {
        "colab": {
          "base_uri": "https://localhost:8080/"
        },
        "id": "3OjLYRAg0wX3",
        "outputId": "067722a7-fe37-46c6-9802-0c7caf3d5cb7"
      },
      "source": [
        "# i. Use sklearn to train a LogisticRegression model on the training set\n",
        "LR_model = LogisticRegression()\n",
        "#Training the model\n",
        "LR_model.fit(X_train, y_train)"
      ],
      "execution_count": 8,
      "outputs": [
        {
          "output_type": "execute_result",
          "data": {
            "text/plain": [
              "LogisticRegression(C=1.0, class_weight=None, dual=False, fit_intercept=True,\n",
              "                   intercept_scaling=1, l1_ratio=None, max_iter=100,\n",
              "                   multi_class='auto', n_jobs=None, penalty='l2',\n",
              "                   random_state=None, solver='lbfgs', tol=0.0001, verbose=0,\n",
              "                   warm_start=False)"
            ]
          },
          "metadata": {},
          "execution_count": 8
        }
      ]
    },
    {
      "cell_type": "code",
      "metadata": {
        "colab": {
          "base_uri": "https://localhost:8080/"
        },
        "id": "ErEiKhVS0wX4",
        "outputId": "525e20d2-1dee-4f7b-ec5d-262034e0ca4a"
      },
      "source": [
        "# ii. For a sample datapoint, predict the probabilities for each possible class\n",
        "# We can test our model by the first point in test set\n",
        "# the first predict_proba() return estimates for all classes are ordered by the label of classes.\n",
        "# since we have three labal, our return will be a array have three numbers\n",
        "probabilities = LR_model.predict_proba(X_test[:1, :])\n",
        "print('For the iris sample:', X_test[:1, :])\n",
        "print('class 0(Setosa):',probabilities[0][0],'|class 1(Versicolour):',probabilities[0][1],'|class 2(Virginica):',probabilities[0][2])\n"
      ],
      "execution_count": 9,
      "outputs": [
        {
          "output_type": "stream",
          "name": "stdout",
          "text": [
            "For the iris sample: [[5.8 2.8 5.1 2.4]]\n",
            "class 0(Setosa): 8.233434079212403e-05 |class 1(Versicolour): 0.05049456070178681 |class 2(Virginica): 0.949423104957421\n"
          ]
        }
      ]
    },
    {
      "cell_type": "code",
      "metadata": {
        "colab": {
          "base_uri": "https://localhost:8080/"
        },
        "id": "yQcR2pYL0wX4",
        "outputId": "3dc6a5cf-3d33-4251-f94a-6f9081577bac"
      },
      "source": [
        "# iii. Report on the score for Logistic regression model\n",
        "LR_confidence = LR_model.score(X_test, y_test)\n",
        "print('The score of our Logistic Regression Model is',LR_confidence)\n"
      ],
      "execution_count": 10,
      "outputs": [
        {
          "output_type": "stream",
          "name": "stdout",
          "text": [
            "The score of our Logistic Regression Model is 1.0\n"
          ]
        }
      ]
    },
    {
      "cell_type": "markdown",
      "metadata": {
        "id": "oNPFRed-0wX4"
      },
      "source": [
        "By the function, we get the score of our Logistic Regression Model is perfectly 1, which mean our model always correctly predict the right class of iris "
      ]
    },
    {
      "cell_type": "code",
      "metadata": {
        "colab": {
          "base_uri": "https://localhost:8080/"
        },
        "id": "TTdTrL_E0wX5",
        "outputId": "89e4a1f1-4313-4abb-8f15-cb3ea85d7aff"
      },
      "source": [
        "# iv. Extract the coefficents and intercepts for the boundary line(s)\n",
        "# The coefficients and intercepts:\n",
        "print('Coefficients: \\n', LR_model.coef_)\n",
        "print('Intercepts: \\n', LR_model.intercept_)"
      ],
      "execution_count": 12,
      "outputs": [
        {
          "output_type": "stream",
          "name": "stdout",
          "text": [
            "Coefficients: \n",
            " [[-0.41087776  0.92630693 -2.43464513 -1.04770079]\n",
            " [ 0.40315439 -0.32622985 -0.11363366 -0.88710555]\n",
            " [ 0.00772337 -0.60007709  2.5482788   1.93480634]]\n",
            "Intercepts: \n",
            " [  9.46338562   2.44534766 -11.90873328]\n"
          ]
        }
      ]
    },
    {
      "cell_type": "markdown",
      "metadata": {
        "id": "_nIhmg0s0wX5"
      },
      "source": [
        "Obviously, we will have three boundary line for each class. At above, the first list the coefficients list is the coefficients of the fisrt boundary line for class 0. Each conefficient relatives to one features, we have four features which perfectly match the coefficients. And the intercepts of the first boundary line is 9.4634. The other two boundary line follow the same format."
      ]
    },
    {
      "cell_type": "markdown",
      "metadata": {
        "id": "X62jWdKN0wX5"
      },
      "source": [
        "<H2>Part 4: Support Vector Machine</H2>"
      ]
    },
    {
      "cell_type": "code",
      "metadata": {
        "colab": {
          "base_uri": "https://localhost:8080/"
        },
        "id": "muJK9zjT0wX5",
        "outputId": "fc9b3275-967d-4750-be9e-bbad55212eb8"
      },
      "source": [
        "# i. Use sklearn to train a Support Vector Classifier on the training set\n",
        "SVC_model = SVC(kernel = 'linear', random_state = rng, probability = True)\n",
        "SVC_model.fit(X_train, y_train)"
      ],
      "execution_count": 13,
      "outputs": [
        {
          "output_type": "execute_result",
          "data": {
            "text/plain": [
              "SVC(C=1.0, break_ties=False, cache_size=200, class_weight=None, coef0=0.0,\n",
              "    decision_function_shape='ovr', degree=3, gamma='scale', kernel='linear',\n",
              "    max_iter=-1, probability=True,\n",
              "    random_state=RandomState(MT19937) at 0x7FD6EABCB490, shrinking=True,\n",
              "    tol=0.001, verbose=False)"
            ]
          },
          "metadata": {},
          "execution_count": 13
        }
      ]
    },
    {
      "cell_type": "code",
      "metadata": {
        "colab": {
          "base_uri": "https://localhost:8080/"
        },
        "id": "C7iZt29t0wX6",
        "outputId": "7aab8f4d-51f0-4c73-f2fb-fc05116e7458"
      },
      "source": [
        "# ii. For a sample datapoint, predict the probabilities for each possible class\n",
        "probabilities = SVC_model.predict_proba(X_test[:1, :])\n",
        "print('For the iris sample:', X_test[:1, :])\n",
        "print('class 0(Setosa):',probabilities[0][0],'|class 1(Versicolour):',probabilities[0][1],'|class 2(Virginica):',probabilities[0][2])\n"
      ],
      "execution_count": 14,
      "outputs": [
        {
          "output_type": "stream",
          "name": "stdout",
          "text": [
            "For the iris sample: [[5.8 2.8 5.1 2.4]]\n",
            "class 0(Setosa): 0.009725221987402229 |class 1(Versicolour): 0.006937259777277787 |class 2(Virginica): 0.98333751823532\n"
          ]
        }
      ]
    },
    {
      "cell_type": "code",
      "metadata": {
        "colab": {
          "base_uri": "https://localhost:8080/"
        },
        "id": "SpONjH3z0wX6",
        "outputId": "516bf0c5-2f7b-4707-cfa3-b9e58ccfa510"
      },
      "source": [
        "# iii. Report on the score for the SVM, what does the score measure?\n",
        "SVC_confidence = SVC_model.score(X_test, y_test)\n",
        "print('The score of our Support Vector Classifier is',SVC_confidence)\n"
      ],
      "execution_count": 15,
      "outputs": [
        {
          "output_type": "stream",
          "name": "stdout",
          "text": [
            "The score of our Support Vector Classifier is 1.0\n"
          ]
        }
      ]
    },
    {
      "cell_type": "markdown",
      "metadata": {
        "id": "4CofaFMd0wX6"
      },
      "source": [
        "Once again, we got the score of our support vector machine is also 1. If we compare the second part, the probalities of each possible class of the same is very similarly to the last we got from Logistic regression model. The class 3 has the highest ratio. "
      ]
    },
    {
      "cell_type": "markdown",
      "metadata": {
        "id": "as5LQnMa0wX6"
      },
      "source": [
        "<H2>Part 5: Neural Network</H2>"
      ]
    },
    {
      "cell_type": "code",
      "metadata": {
        "colab": {
          "base_uri": "https://localhost:8080/"
        },
        "id": "uoLBvxjs0wX7",
        "outputId": "06e2b7da-f81c-432c-d6eb-c4ab990c15cf"
      },
      "source": [
        "# i. Use sklearn to train a Neural Network (MLP Classifier) on the training set\n",
        "# ‘lbfgs’ is an optimizer in the family of quasi-Newton methods.\n",
        "NN_model = MLPClassifier(solver='lbfgs',tol = 1e-6,hidden_layer_sizes=(5,4),activation=\"logistic\",alpha=1e-1,max_iter=1000,random_state=rng)\n",
        "NN_model.fit(X_train, y_train)\n"
      ],
      "execution_count": 16,
      "outputs": [
        {
          "output_type": "execute_result",
          "data": {
            "text/plain": [
              "MLPClassifier(activation='logistic', alpha=0.1, batch_size='auto', beta_1=0.9,\n",
              "              beta_2=0.999, early_stopping=False, epsilon=1e-08,\n",
              "              hidden_layer_sizes=(5, 4), learning_rate='constant',\n",
              "              learning_rate_init=0.001, max_fun=15000, max_iter=1000,\n",
              "              momentum=0.9, n_iter_no_change=10, nesterovs_momentum=True,\n",
              "              power_t=0.5, random_state=RandomState(MT19937) at 0x7FD6EABCB490,\n",
              "              shuffle=True, solver='lbfgs', tol=1e-06, validation_fraction=0.1,\n",
              "              verbose=False, warm_start=False)"
            ]
          },
          "metadata": {},
          "execution_count": 16
        }
      ]
    },
    {
      "cell_type": "code",
      "metadata": {
        "colab": {
          "base_uri": "https://localhost:8080/"
        },
        "id": "oT8j5p9L0wX7",
        "outputId": "0b0303e7-9075-433a-ba2e-0acb37c6d623"
      },
      "source": [
        "# ii. For a sample datapoint, predict the probabilities for each possible class\n",
        "probabilities = NN_model.predict_proba(X_test[:1, :])\n",
        "print('For the iris sample:', X_test[:1, :])\n",
        "print('class 0(Setosa):',probabilities[0][0],'|class 1(Versicolour):',probabilities[0][1],'|class 2(Virginica):',probabilities[0][2])\n",
        "\n"
      ],
      "execution_count": 17,
      "outputs": [
        {
          "output_type": "stream",
          "name": "stdout",
          "text": [
            "For the iris sample: [[5.8 2.8 5.1 2.4]]\n",
            "class 0(Setosa): 0.0017239002747314013 |class 1(Versicolour): 0.006254101953466275 |class 2(Virginica): 0.9920219977718023\n"
          ]
        }
      ]
    },
    {
      "cell_type": "code",
      "metadata": {
        "colab": {
          "base_uri": "https://localhost:8080/"
        },
        "id": "9mEGluIQ0wX7",
        "outputId": "9e44ab13-3be3-469c-ad05-579c5c0f754a"
      },
      "source": [
        "# iii. Report on the score for the Neural Network, what does the score measure?\n",
        "NN_confidence = NN_model.score(X_test, y_test)\n",
        "print('The score of our Neutral Network Model is',NN_confidence)"
      ],
      "execution_count": 18,
      "outputs": [
        {
          "output_type": "stream",
          "name": "stdout",
          "text": [
            "The score of our Neutral Network Model is 1.0\n"
          ]
        }
      ]
    },
    {
      "cell_type": "markdown",
      "metadata": {
        "id": "Jk2m4RSG0wX7"
      },
      "source": [
        "In my person neural network model, I set tol = 0.000001, which is the threshold of error, our model will stop training when it is less than this value. hidden_layer_sizes: set two hidden layer inside the network, the first hidden layer has 5 nodes, and the second has 4 nodes. The activition indicates the activation function of the hidden layer to be logistic. Alpha is 0.1, becuase I don't want it too small, that we need too many iteration to find optimal solution."
      ]
    },
    {
      "cell_type": "markdown",
      "metadata": {
        "id": "3SH2IE0_0wX8"
      },
      "source": [
        "<H2>Part 6: K-Nearest Neighbors</H2>"
      ]
    },
    {
      "cell_type": "code",
      "metadata": {
        "colab": {
          "base_uri": "https://localhost:8080/"
        },
        "id": "rdqQfBEh0wX8",
        "outputId": "ee0700da-b0f4-4d6d-ffb0-f1a2aa443165"
      },
      "source": [
        "from sklearn.neighbors import KNeighborsClassifier\n",
        "\n",
        "# i. Use sklearn to 'train' a k-Neighbors Classifier\n",
        "# Note: KNN is a nonparametric model and technically doesn't require training\n",
        "# fit will essentially load the data into the model see link below for more information\n",
        "# https://stats.stackexchange.com/questions/349842/why-do-we-need-to-fit-a-k-nearest-neighbors-classifier\n",
        "knn = KNeighborsClassifier(n_neighbors=10)\n",
        "knn.fit(X_train, y_train)\n",
        "\n",
        "# ii. For a sample datapoint, predict the probabilities for each possible class\n",
        "\n",
        "probabilities = knn.predict_proba(X_test[10:11, :])\n",
        "print('For the iris sample:', X_test[10:11, :])\n",
        "print('class 0(Setosa):',probabilities[0][0],'|class 1(Versicolour):',probabilities[0][1],'|class 2(Virginica):',probabilities[0][2])\n",
        "\n",
        "# iii. Report on the score for kNN, what does the score measure?\n",
        "confidence = knn.score(X_test, y_test)\n",
        "print('The score of our K-Nearest Model is',confidence)\n"
      ],
      "execution_count": 19,
      "outputs": [
        {
          "output_type": "stream",
          "name": "stdout",
          "text": [
            "For the iris sample: [[6.1 2.6 5.6 1.4]]\n",
            "class 0(Setosa): 0.0 |class 1(Versicolour): 0.2 |class 2(Virginica): 0.8\n",
            "The score of our K-Nearest Model is 1.0\n"
          ]
        }
      ]
    },
    {
      "cell_type": "markdown",
      "metadata": {
        "id": "-eFGgtz60wX8"
      },
      "source": [
        "The K-Nearest Neighbors model will define the class of the point by nearest n point. It is also a good idea to predict the new point give to us, because the point share the same class should have the similar features. "
      ]
    },
    {
      "cell_type": "markdown",
      "metadata": {
        "id": "y2QVAULE0wX8"
      },
      "source": [
        "<H2>Part 7: Conclusions and takeaways</H2>"
      ]
    },
    {
      "cell_type": "markdown",
      "metadata": {
        "id": "pnejLLRk0wX8"
      },
      "source": [
        "In your own words describe the results of the notebook. Which model(s) performed the best on the dataset? Why do you think that is? Did anything surprise you about the exercise?<Br>\n",
        "    Base the previous work, the all scores of today's meachine model is 1, which means all models are able to define the point correctly. For, i think the logistic regression and the Neutal network model make more sense to me. The logistic regression constructs linear boundaries to classfer multiple classes. The boundary line gives me a good visualization. The building of neutal network model, we gradually get closer to optimal answer. \n",
        "    K-NN algorithm is also very simple to understand and equally easy to implement. But I feel it too dependent on the balance of input data. If one class only get few input data, then the model will ultimately give a lot of preference to majority set. This might result in getting the less common class wrongly classified.  \n",
        "    "
      ]
    },
    {
      "cell_type": "code",
      "metadata": {
        "id": "pC6IFbEO0wX8"
      },
      "source": [
        ""
      ],
      "execution_count": null,
      "outputs": []
    }
  ]
}